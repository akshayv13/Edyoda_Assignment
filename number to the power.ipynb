{
 "cells": [
  {
   "cell_type": "markdown",
   "id": "ac9320fa",
   "metadata": {},
   "source": [
    "## OOP Assignment\n",
    "### Number to the power Using CLASS"
   ]
  },
  {
   "cell_type": "code",
   "execution_count": 9,
   "id": "1079e7a8",
   "metadata": {},
   "outputs": [],
   "source": [
    "class number_power:\n",
    "    \n",
    "    def __init__(self):\n",
    "        \n",
    "        self.Number=int(input(\"Enter the number:\"))\n",
    "        self.Power=int(input(\"Enter the power :\"))\n",
    "        self.pr()\n",
    "    def pr(self):\n",
    "        print(\"{} to the power {} is {}\".format(self.Number,self.Power,self.Number**self.Power))\n",
    "        "
   ]
  },
  {
   "cell_type": "code",
   "execution_count": 12,
   "id": "dfed524c",
   "metadata": {},
   "outputs": [
    {
     "name": "stdout",
     "output_type": "stream",
     "text": [
      "Enter the number:9\n",
      "Enter the power :9\n",
      "9 to the power 9 is 387420489\n"
     ]
    }
   ],
   "source": [
    "obj=number_power()"
   ]
  },
  {
   "cell_type": "code",
   "execution_count": null,
   "id": "41b309e5",
   "metadata": {},
   "outputs": [],
   "source": []
  }
 ],
 "metadata": {
  "kernelspec": {
   "display_name": "Python 3 (ipykernel)",
   "language": "python",
   "name": "python3"
  },
  "language_info": {
   "codemirror_mode": {
    "name": "ipython",
    "version": 3
   },
   "file_extension": ".py",
   "mimetype": "text/x-python",
   "name": "python",
   "nbconvert_exporter": "python",
   "pygments_lexer": "ipython3",
   "version": "3.9.7"
  }
 },
 "nbformat": 4,
 "nbformat_minor": 5
}
