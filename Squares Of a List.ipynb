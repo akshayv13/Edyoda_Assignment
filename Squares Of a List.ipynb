{
 "cells": [
  {
   "cell_type": "markdown",
   "id": "1696e366",
   "metadata": {},
   "source": [
    "## Squares Of a List"
   ]
  },
  {
   "cell_type": "code",
   "execution_count": 1,
   "id": "3ca742da",
   "metadata": {},
   "outputs": [
    {
     "name": "stdout",
     "output_type": "stream",
     "text": [
      "[16, 25, 4, 81]\n"
     ]
    }
   ],
   "source": [
    "s=lambda x:x**2\n",
    "a=[4,5,2,9]\n",
    "b=list(map(s,a))\n",
    "print(b)"
   ]
  },
  {
   "cell_type": "code",
   "execution_count": null,
   "id": "6982b881",
   "metadata": {},
   "outputs": [],
   "source": []
  }
 ],
 "metadata": {
  "kernelspec": {
   "display_name": "Python 3 (ipykernel)",
   "language": "python",
   "name": "python3"
  },
  "language_info": {
   "codemirror_mode": {
    "name": "ipython",
    "version": 3
   },
   "file_extension": ".py",
   "mimetype": "text/x-python",
   "name": "python",
   "nbconvert_exporter": "python",
   "pygments_lexer": "ipython3",
   "version": "3.9.7"
  }
 },
 "nbformat": 4,
 "nbformat_minor": 5
}
