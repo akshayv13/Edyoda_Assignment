{
 "cells": [
  {
   "cell_type": "markdown",
   "id": "bcceb5f0",
   "metadata": {},
   "source": [
    "## Game Of Functions"
   ]
  },
  {
   "cell_type": "code",
   "execution_count": 1,
   "id": "3b10314d",
   "metadata": {},
   "outputs": [],
   "source": [
    "def addfun(*a):\n",
    "    c=0\n",
    "    for i in a:\n",
    "        c+=i\n",
    "    return c"
   ]
  },
  {
   "cell_type": "code",
   "execution_count": 2,
   "id": "f06be023",
   "metadata": {},
   "outputs": [
    {
     "data": {
      "text/plain": [
       "20"
      ]
     },
     "execution_count": 2,
     "metadata": {},
     "output_type": "execute_result"
    }
   ],
   "source": [
    "addfun(8, 2, 3, 0, 7)"
   ]
  },
  {
   "cell_type": "code",
   "execution_count": null,
   "id": "c2b2a267",
   "metadata": {},
   "outputs": [],
   "source": []
  }
 ],
 "metadata": {
  "kernelspec": {
   "display_name": "Python 3 (ipykernel)",
   "language": "python",
   "name": "python3"
  },
  "language_info": {
   "codemirror_mode": {
    "name": "ipython",
    "version": 3
   },
   "file_extension": ".py",
   "mimetype": "text/x-python",
   "name": "python",
   "nbconvert_exporter": "python",
   "pygments_lexer": "ipython3",
   "version": "3.9.7"
  }
 },
 "nbformat": 4,
 "nbformat_minor": 5
}
